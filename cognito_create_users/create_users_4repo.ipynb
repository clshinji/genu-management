{
 "cells": [
  {
   "cell_type": "markdown",
   "metadata": {},
   "source": [
    "# GenU - Cognito ユーザプールにユーザを一括登録したい\n",
    "参考\n",
    "- [Confirmed状態のCognitoユーザーをBoto 3で即作成する](https://qiita.com/ttkiida/items/fdd93e166f2d36e581e4)\n",
    "- [boto3 - CognitoIdentityProvider - admin_create_user](https://boto3.amazonaws.com/v1/documentation/api/latest/reference/services/cognito-idp/client/admin_create_user.html)"
   ]
  },
  {
   "cell_type": "markdown",
   "metadata": {},
   "source": [
    "## 必要なライブラリをインストールする\n",
    "Excelで作成したユーザ名・初期パスワードを読み取るために、必要なライブラリをインポートしています。<br />\n",
    "CSVでユーザ情報を準備する場合等は、 `openpyxl` は必要にならないので、このステップは不要です。\n",
    "\n",
    "※ boto3, pandas は SageMaker CodeEditor ではインストール済みです。<br />\n",
    "　 一方で、ローカル環境から利用する場合は、必要な認証情報の登録 ＆ boto3等の不足するライブラリのインストールを行いましょう。"
   ]
  },
  {
   "cell_type": "code",
   "execution_count": null,
   "metadata": {},
   "outputs": [],
   "source": [
    "!pip install openpyxl"
   ]
  },
  {
   "cell_type": "markdown",
   "metadata": {},
   "source": [
    "## ユーザ一撃作成用の関数を定義しておく"
   ]
  },
  {
   "cell_type": "code",
   "execution_count": null,
   "metadata": {},
   "outputs": [],
   "source": [
    "import boto3\n",
    "import pandas as pd\n",
    "from tqdm.notebook import tqdm\n",
    "\n",
    "\n",
    "def get_all_users(user_pool_id):\n",
    "    \"\"\" Cognitoユーザプールからユーザリストを取得\n",
    "    Args:\n",
    "        user_pool_id (string): CognitoユーザプールID\n",
    "    Returns:\n",
    "        users (list): ユーザプール内の全てのユーザリスト\n",
    "    \"\"\"\n",
    "    cognito_client = boto3.client('cognito-idp')\n",
    "    users = []\n",
    "    pagination_token = None\n",
    "\n",
    "    while True:\n",
    "        if pagination_token:\n",
    "            response = cognito_client.list_users(\n",
    "                UserPoolId=user_pool_id,\n",
    "                PaginationToken=pagination_token\n",
    "            )\n",
    "        else:\n",
    "            response = cognito_client.list_users(\n",
    "                UserPoolId=user_pool_id\n",
    "            )\n",
    "\n",
    "        users.extend(response['Users'])\n",
    "\n",
    "        if 'PaginationToken' in response:\n",
    "            pagination_token = response['PaginationToken']\n",
    "        else:\n",
    "            break\n",
    "\n",
    "    return users\n",
    "\n",
    "\n",
    "def users_to_dataframe(users):\n",
    "    \"\"\" Cognitoユーザプールから取得したユーザリストをデータフレームに変換\n",
    "    Args:\n",
    "        users (list): ユーザプール内の全てのユーザリスト\n",
    "    Returns:\n",
    "        (pd.DataFrame): Cognitoのユーザリスト\n",
    "    \"\"\"\n",
    "    user_data = []\n",
    "    for user in users:\n",
    "        user_dict = {\n",
    "            'Username': user['Username'],\n",
    "            'UserStatus': user['UserStatus'],\n",
    "            'UserCreateDate': user['UserCreateDate'].strftime('%Y-%m-%d %H:%M:%S'),\n",
    "            'UserLastModifiedDate': user['UserLastModifiedDate'].strftime('%Y-%m-%d %H:%M:%S'),\n",
    "        }\n",
    "\n",
    "        # Add user attributes\n",
    "        for attr in user['Attributes']:\n",
    "            user_dict[attr['Name']] = attr['Value']\n",
    "\n",
    "        user_data.append(user_dict)\n",
    "\n",
    "    return pd.DataFrame(user_data)\n",
    "\n",
    "\n",
    "def check_string_in_column(df, column_name, string_to_check):\n",
    "    \"\"\"\n",
    "    Args:\n",
    "        df(Dataframe): チェック対象のデータフレーム\n",
    "        column_name(str): チェック対象の列名\n",
    "        string_to_check(str): 検索する文字列\n",
    "    Return:\n",
    "        (list): データフレームの各行について、True|False のリスト\n",
    "    \"\"\"\n",
    "    return df[column_name].str.contains(string_to_check, na=False)\n",
    "\n",
    "\n",
    "def create_cognito_users(USER_POOL_ID, df):\n",
    "    \"\"\" Cognito ユーザプールに新規ユーザをまとめて作成する\n",
    "    Args:\n",
    "        USER_POOL_ID (str): CognitoユーザプールID\n",
    "        df (pd.DataFrame): 登録したいユーザと初期パスワードをまとめたデータフレーム\n",
    "    \"\"\"\n",
    "    cognito_client = boto3.client('cognito-idp')\n",
    "\n",
    "    # Cognito ユーザプールから最新のユーザリストを取得\n",
    "    user_list = get_all_users(USER_POOL_ID)\n",
    "    # print(f\"Cognito ユーザプールに登録されている人数: {len(user_list)}\")\n",
    "\n",
    "    # ユーザリストをデータフレームに変換\n",
    "    df_users = users_to_dataframe(user_list)\n",
    "\n",
    "    # 一時的な仮パスワード\n",
    "    PASS_TEMP = \"Karipass#9020\"\n",
    "\n",
    "    # Admin権限でユーザを新規作成する\n",
    "    for index, row in tqdm(df.iterrows(), total=len(df)):\n",
    "        EMAIL = row[\"メールアドレス\"]\n",
    "        PASS = row[\"初期パスワード\"]\n",
    "\n",
    "        # Cognitoユーザプール内に重複が無いかをチェック\n",
    "        if check_string_in_column(df_users, 'email', EMAIL).sum():\n",
    "            print(f'Creatig user >>> {EMAIL} >>> pass')\n",
    "            continue\n",
    "        print(f'Creatig user >>> {EMAIL}')\n",
    "\n",
    "        # 共通の仮パスワードを使って、とりあえずユーザ作成\n",
    "        # ここで一時パスワードを設定すると時限付となってしまう\n",
    "        # メール認証は `済` にしてしまう\n",
    "        cognito_client.admin_create_user(\n",
    "            UserPoolId=USER_POOL_ID,\n",
    "            Username=EMAIL,\n",
    "            TemporaryPassword=PASS_TEMP,\n",
    "            UserAttributes=[\n",
    "                {\n",
    "                    'Name': 'email_verified',\n",
    "                    'Value': 'true'\n",
    "                },\n",
    "                {\n",
    "                    'Name': 'email',\n",
    "                    'Value': EMAIL\n",
    "                }\n",
    "            ],\n",
    "            MessageAction='SUPPRESS'\n",
    "        )\n",
    "\n",
    "        # 初期パスワードを確認済みとして設定\n",
    "        cognito_client.admin_set_user_password(\n",
    "            UserPoolId=USER_POOL_ID,\n",
    "            Username=EMAIL,\n",
    "            Password=PASS,\n",
    "            Permanent=True\n",
    "        )\n",
    "\n",
    "    print(\"New user created in the Cognito user pool.\")\n",
    "\n",
    "print(\"準備OK\")"
   ]
  },
  {
   "cell_type": "markdown",
   "metadata": {},
   "source": [
    "## 登録したいユーザ情報を取得する"
   ]
  },
  {
   "cell_type": "code",
   "execution_count": null,
   "metadata": {},
   "outputs": [],
   "source": [
    "df = pd.read_excel('GenU_一括登録リスト（テスト）.xlsx')\n",
    "df = df.dropna(subset='メールアドレス')\n",
    "df = df.filter(['メールアドレス', '初期パスワード'])    # 余計な情報があった場合は、フィルタリングする\n",
    "df"
   ]
  },
  {
   "cell_type": "markdown",
   "metadata": {},
   "source": [
    "### 作成するユーザ名＆初期パスワードを確認する用👇️"
   ]
  },
  {
   "cell_type": "code",
   "execution_count": null,
   "metadata": {},
   "outputs": [],
   "source": [
    "# 必要により実行\n",
    "print(\"データのチェック\")\n",
    "for index, row in df.iterrows():\n",
    "    print(f'{index}>>> {row[\"メールアドレス\"]} | {row[\"初期パスワード\"]}')"
   ]
  },
  {
   "cell_type": "markdown",
   "metadata": {},
   "source": [
    "## データフレームから Cognito ユーザを作成する"
   ]
  },
  {
   "cell_type": "code",
   "execution_count": null,
   "metadata": {},
   "outputs": [],
   "source": [
    "# 一括登録リストにあるユーザをまとめて作成する\n",
    "USER_POOL_ID = 'ap-northeast-1_XXXXXXXXX'    # Cognito ユーザプールID を指定する\n",
    "create_cognito_users(USER_POOL_ID, df)"
   ]
  },
  {
   "cell_type": "code",
   "execution_count": null,
   "metadata": {},
   "outputs": [],
   "source": []
  }
 ],
 "metadata": {
  "kernelspec": {
   "display_name": "base",
   "language": "python",
   "name": "python3"
  },
  "language_info": {
   "codemirror_mode": {
    "name": "ipython",
    "version": 3
   },
   "file_extension": ".py",
   "mimetype": "text/x-python",
   "name": "python",
   "nbconvert_exporter": "python",
   "pygments_lexer": "ipython3",
   "version": "3.10.14"
  }
 },
 "nbformat": 4,
 "nbformat_minor": 2
}
