{
 "cells": [
  {
   "cell_type": "markdown",
   "metadata": {},
   "source": [
    "# GenU - Cognito ユーザプールにユーザを一括登録したい\n",
    "参考\n",
    "- [Confirmed状態のCognitoユーザーをBoto 3で即作成する](https://qiita.com/ttkiida/items/fdd93e166f2d36e581e4)\n",
    "- [boto3 - CognitoIdentityProvider - admin_create_user](https://boto3.amazonaws.com/v1/documentation/api/latest/reference/services/cognito-idp/client/admin_create_user.html)"
   ]
  },
  {
   "cell_type": "code",
   "execution_count": 1,
   "metadata": {},
   "outputs": [
    {
     "name": "stdout",
     "output_type": "stream",
     "text": [
      "Collecting openpyxl\n",
      "  Using cached openpyxl-3.1.5-py2.py3-none-any.whl.metadata (2.5 kB)\n",
      "Collecting et-xmlfile (from openpyxl)\n",
      "  Using cached et_xmlfile-1.1.0-py3-none-any.whl.metadata (1.8 kB)\n",
      "Using cached openpyxl-3.1.5-py2.py3-none-any.whl (250 kB)\n",
      "Using cached et_xmlfile-1.1.0-py3-none-any.whl (4.7 kB)\n",
      "Installing collected packages: et-xmlfile, openpyxl\n",
      "Successfully installed et-xmlfile-1.1.0 openpyxl-3.1.5\n"
     ]
    }
   ],
   "source": [
    "!pip install openpyxl"
   ]
  },
  {
   "cell_type": "code",
   "execution_count": 53,
   "metadata": {},
   "outputs": [
    {
     "name": "stdout",
     "output_type": "stream",
     "text": [
      "準備OK\n"
     ]
    }
   ],
   "source": [
    "import boto3\n",
    "import pandas as pd\n",
    "from tqdm.notebook import tqdm\n",
    "\n",
    "\n",
    "def get_all_users(user_pool_id):\n",
    "    \"\"\" Cognitoユーザプールからユーザリストを取得\n",
    "    Args:\n",
    "        user_pool_id (string): CognitoユーザプールID\n",
    "    Returns:\n",
    "        users (list): ユーザプール内の全てのユーザリスト\n",
    "    \"\"\"\n",
    "    cognito_client = boto3.client('cognito-idp')\n",
    "    users = []\n",
    "    pagination_token = None\n",
    "\n",
    "    while True:\n",
    "        if pagination_token:\n",
    "            response = cognito_client.list_users(\n",
    "                UserPoolId=user_pool_id,\n",
    "                PaginationToken=pagination_token\n",
    "            )\n",
    "        else:\n",
    "            response = cognito_client.list_users(\n",
    "                UserPoolId=user_pool_id\n",
    "            )\n",
    "\n",
    "        users.extend(response['Users'])\n",
    "\n",
    "        if 'PaginationToken' in response:\n",
    "            pagination_token = response['PaginationToken']\n",
    "        else:\n",
    "            break\n",
    "\n",
    "    return users\n",
    "\n",
    "\n",
    "def users_to_dataframe(users):\n",
    "    \"\"\" Cognitoユーザプールから取得したユーザリストをデータフレームに変換\n",
    "    Args:\n",
    "        users (list): ユーザプール内の全てのユーザリスト\n",
    "    Returns:\n",
    "        (pd.DataFrame): Cognitoのユーザリスト\n",
    "    \"\"\"\n",
    "    user_data = []\n",
    "    for user in users:\n",
    "        user_dict = {\n",
    "            'Username': user['Username'],\n",
    "            'UserStatus': user['UserStatus'],\n",
    "            'UserCreateDate': user['UserCreateDate'].strftime('%Y-%m-%d %H:%M:%S'),\n",
    "            'UserLastModifiedDate': user['UserLastModifiedDate'].strftime('%Y-%m-%d %H:%M:%S'),\n",
    "        }\n",
    "\n",
    "        # Add user attributes\n",
    "        for attr in user['Attributes']:\n",
    "            user_dict[attr['Name']] = attr['Value']\n",
    "\n",
    "        user_data.append(user_dict)\n",
    "\n",
    "    return pd.DataFrame(user_data)\n",
    "\n",
    "\n",
    "def check_string_in_column(df, column_name, string_to_check):\n",
    "    \"\"\"\n",
    "    Args:\n",
    "        df(Dataframe): チェック対象のデータフレーム\n",
    "        column_name(str): チェック対象の列名\n",
    "        string_to_check(str): 検索する文字列\n",
    "    Return:\n",
    "        (list): データフレームの各行について、True|False のリスト\n",
    "    \"\"\"\n",
    "    return df[column_name].str.contains(string_to_check, na=False)\n",
    "\n",
    "\n",
    "def create_cognito_users(USER_POOL_ID, df):\n",
    "    \"\"\" Cognito ユーザプールに新規ユーザをまとめて作成する\n",
    "    Args:\n",
    "        USER_POOL_ID (str): CognitoユーザプールID\n",
    "        df (pd.DataFrame): 登録したいユーザと初期パスワードをまとめたデータフレーム\n",
    "    \"\"\"\n",
    "    cognito_client = boto3.client('cognito-idp')\n",
    "\n",
    "    # Cognito ユーザプールから最新のユーザリストを取得\n",
    "    user_list = get_all_users(USER_POOL_ID)\n",
    "    # print(f\"Cognito ユーザプールに登録されている人数: {len(user_list)}\")\n",
    "\n",
    "    # ユーザリストをデータフレームに変換\n",
    "    df_users = users_to_dataframe(user_list)\n",
    "\n",
    "    # 一時的な仮パスワード\n",
    "    PASS_TEMP = \"Karipass#9020\"\n",
    "\n",
    "    # Admin権限でユーザを新規作成する\n",
    "    for index, row in tqdm(df.iterrows(), total=len(df)):\n",
    "        EMAIL = row[\"メールアドレス\"]\n",
    "        PASS = row[\"初期パスワード\"]\n",
    "\n",
    "        # Cognitoユーザプール内に重複が無いかをチェック\n",
    "        if check_string_in_column(df_users, 'email', EMAIL).sum():\n",
    "            print(f'Creatig user >>> {EMAIL} >>> pass')\n",
    "            continue\n",
    "        print(f'Creatig user >>> {EMAIL}')\n",
    "\n",
    "        # 共通の仮パスワードを使って、とりあえずユーザ作成\n",
    "        # ここで一時パスワードを設定すると時限付となってしまう\n",
    "        # メール認証は `済` にしてしまう\n",
    "        cognito_client.admin_create_user(\n",
    "            UserPoolId=USER_POOL_ID,\n",
    "            Username=EMAIL,\n",
    "            TemporaryPassword=PASS_TEMP,\n",
    "            UserAttributes=[\n",
    "                {\n",
    "                    'Name': 'email_verified',\n",
    "                    'Value': 'true'\n",
    "                },\n",
    "                {\n",
    "                    'Name': 'email',\n",
    "                    'Value': EMAIL\n",
    "                }\n",
    "            ],\n",
    "            MessageAction='SUPPRESS'\n",
    "        )\n",
    "\n",
    "        # 初期パスワードを確認済みとして設定\n",
    "        cognito_client.admin_set_user_password(\n",
    "            UserPoolId=USER_POOL_ID,\n",
    "            Username=EMAIL,\n",
    "            Password=PASS,\n",
    "            Permanent=True\n",
    "        )\n",
    "\n",
    "    print(\"New user created in the Cognito user pool.\")\n",
    "\n",
    "print(\"準備OK\")"
   ]
  },
  {
   "cell_type": "markdown",
   "metadata": {},
   "source": [
    "## 登録したいユーザ情報を取得する"
   ]
  },
  {
   "cell_type": "code",
   "execution_count": 50,
   "metadata": {},
   "outputs": [
    {
     "data": {
      "text/html": [
       "<div>\n",
       "<style scoped>\n",
       "    .dataframe tbody tr th:only-of-type {\n",
       "        vertical-align: middle;\n",
       "    }\n",
       "\n",
       "    .dataframe tbody tr th {\n",
       "        vertical-align: top;\n",
       "    }\n",
       "\n",
       "    .dataframe thead th {\n",
       "        text-align: right;\n",
       "    }\n",
       "</style>\n",
       "<table border=\"1\" class=\"dataframe\">\n",
       "  <thead>\n",
       "    <tr style=\"text-align: right;\">\n",
       "      <th></th>\n",
       "      <th>メールアドレス</th>\n",
       "      <th>初期パスワード</th>\n",
       "    </tr>\n",
       "  </thead>\n",
       "  <tbody>\n",
       "    <tr>\n",
       "      <th>0</th>\n",
       "      <td>temp-east@jreast.co.jp</td>\n",
       "      <td>Test_90201534</td>\n",
       "    </tr>\n",
       "  </tbody>\n",
       "</table>\n",
       "</div>"
      ],
      "text/plain": [
       "                  メールアドレス        初期パスワード\n",
       "0  temp-east@jreast.co.jp  Test_90201534"
      ]
     },
     "execution_count": 50,
     "metadata": {},
     "output_type": "execute_result"
    }
   ],
   "source": [
    "df = pd.read_excel('GenU_一括登録リスト（テスト）.xlsx')\n",
    "df = df.dropna(subset='メールアドレス')\n",
    "df = df.filter(['メールアドレス', '初期パスワード'])\n",
    "df"
   ]
  },
  {
   "cell_type": "code",
   "execution_count": 51,
   "metadata": {},
   "outputs": [
    {
     "name": "stdout",
     "output_type": "stream",
     "text": [
      "データのチェック\n",
      "0>>> temp-east@jreast.co.jp | Test_90201534\n"
     ]
    }
   ],
   "source": [
    "# 必要により実行\n",
    "print(\"データのチェック\")\n",
    "for index, row in df.iterrows():\n",
    "    print(f'{index}>>> {row[\"メールアドレス\"]} | {row[\"初期パスワード\"]}')"
   ]
  },
  {
   "cell_type": "markdown",
   "metadata": {},
   "source": [
    "# データフレームから Cognito ユーザを作成する"
   ]
  },
  {
   "cell_type": "code",
   "execution_count": 54,
   "metadata": {},
   "outputs": [
    {
     "data": {
      "application/vnd.jupyter.widget-view+json": {
       "model_id": "6bffd711b9c2416fb025d26967de36dd",
       "version_major": 2,
       "version_minor": 0
      },
      "text/plain": [
       "  0%|          | 0/1 [00:00<?, ?it/s]"
      ]
     },
     "metadata": {},
     "output_type": "display_data"
    },
    {
     "name": "stdout",
     "output_type": "stream",
     "text": [
      "Creatig user >>> temp-east@jreast.co.jp\n",
      "New user created in the Cognito user pool.\n"
     ]
    }
   ],
   "source": [
    "# 一括登録リストにあるユーザをまとめて作成する\n",
    "USER_POOL_ID = 'ap-northeast-1_Ln02xdsyw'    # Cognito ユーザプールID\n",
    "create_cognito_users(USER_POOL_ID, df)"
   ]
  },
  {
   "cell_type": "markdown",
   "metadata": {},
   "source": [
    "# 仮パスワードの期限切れへの対応"
   ]
  },
  {
   "cell_type": "markdown",
   "metadata": {},
   "source": [
    "## とりあえず試してみる（作業用）"
   ]
  },
  {
   "cell_type": "code",
   "execution_count": 3,
   "metadata": {},
   "outputs": [],
   "source": [
    "import boto3\n",
    "\n",
    "cognito_client = boto3.client('cognito-idp')"
   ]
  },
  {
   "cell_type": "code",
   "execution_count": 4,
   "metadata": {},
   "outputs": [],
   "source": [
    "USER_POOL_ID = 'ap-northeast-1_Ln02xdsyw'    # Cognito ユーザプールID"
   ]
  },
  {
   "cell_type": "code",
   "execution_count": 6,
   "metadata": {},
   "outputs": [],
   "source": [
    "users = get_all_users(USER_POOL_ID)"
   ]
  },
  {
   "cell_type": "code",
   "execution_count": 8,
   "metadata": {},
   "outputs": [],
   "source": [
    "df_users = users_to_dataframe(users)"
   ]
  },
  {
   "cell_type": "code",
   "execution_count": 10,
   "metadata": {},
   "outputs": [
    {
     "data": {
      "text/plain": [
       "array(['FORCE_CHANGE_PASSWORD', 'CONFIRMED', 'UNCONFIRMED'], dtype=object)"
      ]
     },
     "execution_count": 10,
     "metadata": {},
     "output_type": "execute_result"
    }
   ],
   "source": [
    "df_users['UserStatus'].unique()"
   ]
  },
  {
   "cell_type": "code",
   "execution_count": 12,
   "metadata": {},
   "outputs": [
    {
     "data": {
      "text/html": [
       "<div>\n",
       "<style scoped>\n",
       "    .dataframe tbody tr th:only-of-type {\n",
       "        vertical-align: middle;\n",
       "    }\n",
       "\n",
       "    .dataframe tbody tr th {\n",
       "        vertical-align: top;\n",
       "    }\n",
       "\n",
       "    .dataframe thead th {\n",
       "        text-align: right;\n",
       "    }\n",
       "</style>\n",
       "<table border=\"1\" class=\"dataframe\">\n",
       "  <thead>\n",
       "    <tr style=\"text-align: right;\">\n",
       "      <th></th>\n",
       "      <th>Username</th>\n",
       "      <th>UserStatus</th>\n",
       "      <th>UserCreateDate</th>\n",
       "      <th>UserLastModifiedDate</th>\n",
       "      <th>sub</th>\n",
       "      <th>email_verified</th>\n",
       "      <th>email</th>\n",
       "    </tr>\n",
       "  </thead>\n",
       "  <tbody>\n",
       "    <tr>\n",
       "      <th>0</th>\n",
       "      <td>0057dc56-79b8-42fe-bfca-bdac823fc950</td>\n",
       "      <td>FORCE_CHANGE_PASSWORD</td>\n",
       "      <td>2024-09-09 07:13:40</td>\n",
       "      <td>2024-09-09 07:13:40</td>\n",
       "      <td>0057dc56-79b8-42fe-bfca-bdac823fc950</td>\n",
       "      <td>true</td>\n",
       "      <td>kurayoshi@jreast.co.jp</td>\n",
       "    </tr>\n",
       "    <tr>\n",
       "      <th>5</th>\n",
       "      <td>05e5a17c-a7ef-48bb-9fde-dbac972f9494</td>\n",
       "      <td>FORCE_CHANGE_PASSWORD</td>\n",
       "      <td>2024-09-09 07:13:48</td>\n",
       "      <td>2024-09-09 07:13:48</td>\n",
       "      <td>05e5a17c-a7ef-48bb-9fde-dbac972f9494</td>\n",
       "      <td>true</td>\n",
       "      <td>ta-hirose@jreast.co.jp</td>\n",
       "    </tr>\n",
       "    <tr>\n",
       "      <th>11</th>\n",
       "      <td>0a62151f-d8ff-4932-ad43-5ad16b9793be</td>\n",
       "      <td>FORCE_CHANGE_PASSWORD</td>\n",
       "      <td>2024-09-09 07:13:43</td>\n",
       "      <td>2024-09-09 07:13:43</td>\n",
       "      <td>0a62151f-d8ff-4932-ad43-5ad16b9793be</td>\n",
       "      <td>true</td>\n",
       "      <td>kousaku-hatakeyama@jreast.co.jp</td>\n",
       "    </tr>\n",
       "    <tr>\n",
       "      <th>12</th>\n",
       "      <td>0a808bdf-c9aa-4b1b-b526-1c309a164475</td>\n",
       "      <td>FORCE_CHANGE_PASSWORD</td>\n",
       "      <td>2024-09-09 07:13:49</td>\n",
       "      <td>2024-09-09 07:13:49</td>\n",
       "      <td>0a808bdf-c9aa-4b1b-b526-1c309a164475</td>\n",
       "      <td>true</td>\n",
       "      <td>tomohiro-watanabe@jreast.co.jp</td>\n",
       "    </tr>\n",
       "    <tr>\n",
       "      <th>13</th>\n",
       "      <td>0abe8ae6-04f9-46be-9f4a-167fb472dcc9</td>\n",
       "      <td>FORCE_CHANGE_PASSWORD</td>\n",
       "      <td>2024-09-09 07:13:50</td>\n",
       "      <td>2024-09-09 07:13:50</td>\n",
       "      <td>0abe8ae6-04f9-46be-9f4a-167fb472dcc9</td>\n",
       "      <td>true</td>\n",
       "      <td>yuuki-satou@jreast.co.jp</td>\n",
       "    </tr>\n",
       "    <tr>\n",
       "      <th>...</th>\n",
       "      <td>...</td>\n",
       "      <td>...</td>\n",
       "      <td>...</td>\n",
       "      <td>...</td>\n",
       "      <td>...</td>\n",
       "      <td>...</td>\n",
       "      <td>...</td>\n",
       "    </tr>\n",
       "    <tr>\n",
       "      <th>314</th>\n",
       "      <td>f15ce09b-e1a8-4403-b623-053146eb81d4</td>\n",
       "      <td>FORCE_CHANGE_PASSWORD</td>\n",
       "      <td>2024-09-09 07:13:49</td>\n",
       "      <td>2024-09-09 07:13:49</td>\n",
       "      <td>f15ce09b-e1a8-4403-b623-053146eb81d4</td>\n",
       "      <td>true</td>\n",
       "      <td>ushio@jreast.co.jp</td>\n",
       "    </tr>\n",
       "    <tr>\n",
       "      <th>316</th>\n",
       "      <td>f1b0c6de-0de2-4441-bae4-78ae8ceb6dfa</td>\n",
       "      <td>FORCE_CHANGE_PASSWORD</td>\n",
       "      <td>2024-09-09 07:13:46</td>\n",
       "      <td>2024-09-09 07:13:46</td>\n",
       "      <td>f1b0c6de-0de2-4441-bae4-78ae8ceb6dfa</td>\n",
       "      <td>true</td>\n",
       "      <td>inkyo-eiji@jreast.co.jp</td>\n",
       "    </tr>\n",
       "    <tr>\n",
       "      <th>317</th>\n",
       "      <td>f312c2fb-a7bb-4e56-95c0-04d3445e25de</td>\n",
       "      <td>FORCE_CHANGE_PASSWORD</td>\n",
       "      <td>2024-09-09 07:13:48</td>\n",
       "      <td>2024-09-09 07:13:48</td>\n",
       "      <td>f312c2fb-a7bb-4e56-95c0-04d3445e25de</td>\n",
       "      <td>true</td>\n",
       "      <td>y-paku@jreast.co.jp</td>\n",
       "    </tr>\n",
       "    <tr>\n",
       "      <th>319</th>\n",
       "      <td>f60936c2-1753-42a6-a541-7dfe793e7183</td>\n",
       "      <td>FORCE_CHANGE_PASSWORD</td>\n",
       "      <td>2024-09-09 06:55:28</td>\n",
       "      <td>2024-09-09 06:55:28</td>\n",
       "      <td>f60936c2-1753-42a6-a541-7dfe793e7183</td>\n",
       "      <td>true</td>\n",
       "      <td>kazuma-moriya@jreast.co.jp</td>\n",
       "    </tr>\n",
       "    <tr>\n",
       "      <th>324</th>\n",
       "      <td>ffb1a9f5-7bb6-482c-9d17-b3919917d223</td>\n",
       "      <td>FORCE_CHANGE_PASSWORD</td>\n",
       "      <td>2024-09-09 07:13:49</td>\n",
       "      <td>2024-09-09 07:13:49</td>\n",
       "      <td>ffb1a9f5-7bb6-482c-9d17-b3919917d223</td>\n",
       "      <td>true</td>\n",
       "      <td>fumitoshi-abe@jreast.co.jp</td>\n",
       "    </tr>\n",
       "  </tbody>\n",
       "</table>\n",
       "<p>135 rows × 7 columns</p>\n",
       "</div>"
      ],
      "text/plain": [
       "                                 Username             UserStatus  \\\n",
       "0    0057dc56-79b8-42fe-bfca-bdac823fc950  FORCE_CHANGE_PASSWORD   \n",
       "5    05e5a17c-a7ef-48bb-9fde-dbac972f9494  FORCE_CHANGE_PASSWORD   \n",
       "11   0a62151f-d8ff-4932-ad43-5ad16b9793be  FORCE_CHANGE_PASSWORD   \n",
       "12   0a808bdf-c9aa-4b1b-b526-1c309a164475  FORCE_CHANGE_PASSWORD   \n",
       "13   0abe8ae6-04f9-46be-9f4a-167fb472dcc9  FORCE_CHANGE_PASSWORD   \n",
       "..                                    ...                    ...   \n",
       "314  f15ce09b-e1a8-4403-b623-053146eb81d4  FORCE_CHANGE_PASSWORD   \n",
       "316  f1b0c6de-0de2-4441-bae4-78ae8ceb6dfa  FORCE_CHANGE_PASSWORD   \n",
       "317  f312c2fb-a7bb-4e56-95c0-04d3445e25de  FORCE_CHANGE_PASSWORD   \n",
       "319  f60936c2-1753-42a6-a541-7dfe793e7183  FORCE_CHANGE_PASSWORD   \n",
       "324  ffb1a9f5-7bb6-482c-9d17-b3919917d223  FORCE_CHANGE_PASSWORD   \n",
       "\n",
       "          UserCreateDate UserLastModifiedDate  \\\n",
       "0    2024-09-09 07:13:40  2024-09-09 07:13:40   \n",
       "5    2024-09-09 07:13:48  2024-09-09 07:13:48   \n",
       "11   2024-09-09 07:13:43  2024-09-09 07:13:43   \n",
       "12   2024-09-09 07:13:49  2024-09-09 07:13:49   \n",
       "13   2024-09-09 07:13:50  2024-09-09 07:13:50   \n",
       "..                   ...                  ...   \n",
       "314  2024-09-09 07:13:49  2024-09-09 07:13:49   \n",
       "316  2024-09-09 07:13:46  2024-09-09 07:13:46   \n",
       "317  2024-09-09 07:13:48  2024-09-09 07:13:48   \n",
       "319  2024-09-09 06:55:28  2024-09-09 06:55:28   \n",
       "324  2024-09-09 07:13:49  2024-09-09 07:13:49   \n",
       "\n",
       "                                      sub email_verified  \\\n",
       "0    0057dc56-79b8-42fe-bfca-bdac823fc950           true   \n",
       "5    05e5a17c-a7ef-48bb-9fde-dbac972f9494           true   \n",
       "11   0a62151f-d8ff-4932-ad43-5ad16b9793be           true   \n",
       "12   0a808bdf-c9aa-4b1b-b526-1c309a164475           true   \n",
       "13   0abe8ae6-04f9-46be-9f4a-167fb472dcc9           true   \n",
       "..                                    ...            ...   \n",
       "314  f15ce09b-e1a8-4403-b623-053146eb81d4           true   \n",
       "316  f1b0c6de-0de2-4441-bae4-78ae8ceb6dfa           true   \n",
       "317  f312c2fb-a7bb-4e56-95c0-04d3445e25de           true   \n",
       "319  f60936c2-1753-42a6-a541-7dfe793e7183           true   \n",
       "324  ffb1a9f5-7bb6-482c-9d17-b3919917d223           true   \n",
       "\n",
       "                               email  \n",
       "0             kurayoshi@jreast.co.jp  \n",
       "5             ta-hirose@jreast.co.jp  \n",
       "11   kousaku-hatakeyama@jreast.co.jp  \n",
       "12    tomohiro-watanabe@jreast.co.jp  \n",
       "13          yuuki-satou@jreast.co.jp  \n",
       "..                               ...  \n",
       "314               ushio@jreast.co.jp  \n",
       "316          inkyo-eiji@jreast.co.jp  \n",
       "317              y-paku@jreast.co.jp  \n",
       "319       kazuma-moriya@jreast.co.jp  \n",
       "324       fumitoshi-abe@jreast.co.jp  \n",
       "\n",
       "[135 rows x 7 columns]"
      ]
     },
     "execution_count": 12,
     "metadata": {},
     "output_type": "execute_result"
    }
   ],
   "source": [
    "df_users[df_users['UserStatus'] == 'FORCE_CHANGE_PASSWORD']"
   ]
  },
  {
   "cell_type": "code",
   "execution_count": 14,
   "metadata": {},
   "outputs": [
    {
     "data": {
      "text/html": [
       "<div>\n",
       "<style scoped>\n",
       "    .dataframe tbody tr th:only-of-type {\n",
       "        vertical-align: middle;\n",
       "    }\n",
       "\n",
       "    .dataframe tbody tr th {\n",
       "        vertical-align: top;\n",
       "    }\n",
       "\n",
       "    .dataframe thead th {\n",
       "        text-align: right;\n",
       "    }\n",
       "</style>\n",
       "<table border=\"1\" class=\"dataframe\">\n",
       "  <thead>\n",
       "    <tr style=\"text-align: right;\">\n",
       "      <th></th>\n",
       "      <th>Username</th>\n",
       "      <th>UserStatus</th>\n",
       "      <th>UserCreateDate</th>\n",
       "      <th>UserLastModifiedDate</th>\n",
       "      <th>sub</th>\n",
       "      <th>email_verified</th>\n",
       "      <th>email</th>\n",
       "    </tr>\n",
       "  </thead>\n",
       "  <tbody>\n",
       "    <tr>\n",
       "      <th>258</th>\n",
       "      <td>c3e17781-a3c1-4319-b04e-baab8fff6916</td>\n",
       "      <td>FORCE_CHANGE_PASSWORD</td>\n",
       "      <td>2024-09-09 06:55:26</td>\n",
       "      <td>2024-09-09 06:55:26</td>\n",
       "      <td>c3e17781-a3c1-4319-b04e-baab8fff6916</td>\n",
       "      <td>true</td>\n",
       "      <td>d-ueda@jreast.co.jp</td>\n",
       "    </tr>\n",
       "  </tbody>\n",
       "</table>\n",
       "</div>"
      ],
      "text/plain": [
       "                                 Username             UserStatus  \\\n",
       "258  c3e17781-a3c1-4319-b04e-baab8fff6916  FORCE_CHANGE_PASSWORD   \n",
       "\n",
       "          UserCreateDate UserLastModifiedDate  \\\n",
       "258  2024-09-09 06:55:26  2024-09-09 06:55:26   \n",
       "\n",
       "                                      sub email_verified                email  \n",
       "258  c3e17781-a3c1-4319-b04e-baab8fff6916           true  d-ueda@jreast.co.jp  "
      ]
     },
     "execution_count": 14,
     "metadata": {},
     "output_type": "execute_result"
    }
   ],
   "source": [
    "df_users[df_users['email'] == 'd-ueda@jreast.co.jp']"
   ]
  },
  {
   "cell_type": "code",
   "execution_count": 27,
   "metadata": {},
   "outputs": [
    {
     "data": {
      "text/plain": [
       "'D-ueda_32131'"
      ]
     },
     "execution_count": 27,
     "metadata": {},
     "output_type": "execute_result"
    }
   ],
   "source": [
    "EMAIL = 'd-ueda@jreast.co.jp'\n",
    "\n",
    "PASS = df.query(f'メールアドレス == \"{EMAIL}\"')['初期パスワード'].iloc[0]\n",
    "PASS"
   ]
  },
  {
   "cell_type": "code",
   "execution_count": 29,
   "metadata": {},
   "outputs": [],
   "source": [
    "response = cognito_client.admin_set_user_password(\n",
    "    UserPoolId=USER_POOL_ID,\n",
    "    Username='d-ueda@jreast.co.jp',\n",
    "    Password=PASS,\n",
    "    Permanent=True\n",
    ")"
   ]
  },
  {
   "cell_type": "code",
   "execution_count": 30,
   "metadata": {},
   "outputs": [
    {
     "data": {
      "text/plain": [
       "{'ResponseMetadata': {'RequestId': '1278da7e-9a90-4b70-94bc-23e3a343a3b5',\n",
       "  'HTTPStatusCode': 200,\n",
       "  'HTTPHeaders': {'date': 'Tue, 17 Sep 2024 04:16:19 GMT',\n",
       "   'content-type': 'application/x-amz-json-1.1',\n",
       "   'content-length': '2',\n",
       "   'connection': 'keep-alive',\n",
       "   'x-amzn-requestid': '1278da7e-9a90-4b70-94bc-23e3a343a3b5'},\n",
       "  'RetryAttempts': 0}}"
      ]
     },
     "execution_count": 30,
     "metadata": {},
     "output_type": "execute_result"
    }
   ],
   "source": [
    "response"
   ]
  },
  {
   "cell_type": "markdown",
   "metadata": {},
   "source": [
    "## まとめて、確認済みのパスワードを設定する"
   ]
  },
  {
   "cell_type": "code",
   "execution_count": 40,
   "metadata": {},
   "outputs": [
    {
     "data": {
      "application/vnd.jupyter.widget-view+json": {
       "model_id": "cecfbf064f8f40309168f6be772c4a2c",
       "version_major": 2,
       "version_minor": 0
      },
      "text/plain": [
       "  0%|          | 0/134 [00:00<?, ?it/s]"
      ]
     },
     "metadata": {},
     "output_type": "display_data"
    },
    {
     "name": "stdout",
     "output_type": "stream",
     "text": [
      "kurayoshi@jreast.co.jp >>> set parmanent password\n",
      "ta-hirose@jreast.co.jp >>> set parmanent password\n",
      "kousaku-hatakeyama@jreast.co.jp >>> set parmanent password\n",
      "tomohiro-watanabe@jreast.co.jp >>> set parmanent password\n",
      "yuuki-satou@jreast.co.jp >>> set parmanent password\n",
      "k-miyaki@jreast.co.jp >>> set parmanent password\n",
      "t-maru@jreast.co.jp >>> set parmanent password\n",
      "igarashi-a@jreast.co.jp >>> set parmanent password\n",
      "ujiie-yu@jreast.co.jp >>> set parmanent password\n",
      "chikara-saitou@jreast.co.jp >>> set parmanent password\n",
      "toru-matsuda@jreast.co.jp >>> set parmanent password\n",
      "n-ichinohe@jreast.co.jp >>> set parmanent password\n",
      "onouchi@jreast.co.jp >>> set parmanent password\n",
      "shige-yoshida@jreast.co.jp >>> set parmanent password\n",
      "yasuyuki-takahashi@jreast.co.jp >>> set parmanent password\n",
      "kawabata@jreast.co.jp >>> set parmanent password\n",
      "mozawa-k@jreast.co.jp >>> set parmanent password\n",
      "youko-satou@jreast.co.jp >>> set parmanent password\n",
      "nakatao@jreast.co.jp >>> set parmanent password\n",
      "norihisa-yamaguchi@jreast.co.jp >>> set parmanent password\n",
      "seiya-kodama@jreast.co.jp >>> set parmanent password\n",
      "k-kuriyama@jreast.co.jp >>> set parmanent password\n",
      "youji-ueyama@jreast.co.jp >>> set parmanent password\n",
      "takutakahashi@jreast.co.jp >>> set parmanent password\n",
      "tomomi-kanai@jreast.co.jp >>> set parmanent password\n",
      "tsurui@jreast.co.jp >>> set parmanent password\n",
      "s-aoki@jreast.co.jp >>> set parmanent password\n",
      "taketani-k@jreast.co.jp >>> set parmanent password\n",
      "tomohisa-matsuo@jreast.co.jp >>> set parmanent password\n",
      "minami-kobayashi@jreast.co.jp >>> set parmanent password\n",
      "hidekazu-chiba@jreast.co.jp >>> set parmanent password\n",
      "hiro-arakawa@jreast.co.jp >>> set parmanent password\n",
      "t-hamai@jreast.co.jp >>> set parmanent password\n",
      "h-tanokami@jreast.co.jp >>> set parmanent password\n",
      "taiga-itou@jreast.co.jp >>> set parmanent password\n",
      "d-fukagawa@jreast.co.jp >>> set parmanent password\n",
      "toshiki-tanaka@jreast.co.jp >>> set parmanent password\n",
      "suyama-risa@jreast.co.jp >>> set parmanent password\n",
      "t-takeshita@jreast.co.jp >>> set parmanent password\n",
      "yuichiro-sakamoto@jreast.co.jp >>> set parmanent password\n",
      "f-kasai@jreast.co.jp >>> set parmanent password\n",
      "yoshihiro-fukuda@jreast.co.jp >>> set parmanent password\n",
      "suzukimasato@jreast.co.jp >>> set parmanent password\n",
      "masanari-endou@jreast.co.jp >>> set parmanent password\n",
      "hitsuyu@jreast.co.jp >>> set parmanent password\n",
      "t-makita@jreast.co.jp >>> set parmanent password\n",
      "yoshiteru-arakawa@jreast.co.jp >>> set parmanent password\n",
      "r-yusa@jreast.co.jp >>> set parmanent password\n",
      "r-tazawa@jreast.co.jp >>> set parmanent password\n",
      "kawashima-masaki@jreast.co.jp >>> set parmanent password\n",
      "k-nishino@jreast.co.jp >>> set parmanent password\n",
      "takehiro-terada@jreast.co.jp >>> set parmanent password\n",
      "yamada-e@jreast.co.jp >>> set parmanent password\n",
      "ryouki@jreast.co.jp >>> set parmanent password\n",
      "shichi@jreast.co.jp >>> set parmanent password\n",
      "tenya@jreast.co.jp >>> set parmanent password\n",
      "ayano-satou@jreast.co.jp >>> set parmanent password\n",
      "s-sakuta@jreast.co.jp >>> set parmanent password\n",
      "t-kuroda@jreast.co.jp >>> set parmanent password\n",
      "r-ootsuka@jreast.co.jp >>> set parmanent password\n",
      "t-sueki@jreast.co.jp >>> set parmanent password\n",
      "kota-naito@jreast.co.jp >>> set parmanent password\n",
      "t-kazui@jreast.co.jp >>> set parmanent password\n",
      "syunsuke-kudou@jreast.co.jp >>> set parmanent password\n",
      "kenji-sugawara@jreast.co.jp >>> set parmanent password\n",
      "r-mekata@jreast.co.jp >>> set parmanent password\n",
      "hiroki-tsuchiya@jreast.co.jp >>> set parmanent password\n",
      "r-sasaki@jreast.co.jp >>> set parmanent password\n",
      "yuuto-shinozaki@jreast.co.jp >>> set parmanent password\n",
      "kouki-watanabe@jreast.co.jp >>> set parmanent password\n",
      "mariko-abe@jreast.co.jp >>> set parmanent password\n",
      "yamamotomasahiro@jreast.co.jp >>> set parmanent password\n",
      "takenori-miyahara@jreast.co.jp >>> set parmanent password\n",
      "h-katada@jreast.co.jp >>> set parmanent password\n",
      "hryk-tanaka@jreast.co.jp >>> set parmanent password\n",
      "okumura-m@jreast.co.jp >>> set parmanent password\n",
      "itou-satoshi@jreast.co.jp >>> set parmanent password\n",
      "s-hiramatsu@jreast.co.jp >>> set parmanent password\n",
      "katsuya-koubetsu@jreast.co.jp >>> set parmanent password\n",
      "k-baba@jreast.co.jp >>> set parmanent password\n",
      "soejima@jreast.co.jp >>> set parmanent password\n",
      "tomoharu-maruyama@jreast.co.jp >>> set parmanent password\n",
      "naoya-tanaka@jreast.co.jp >>> set parmanent password\n",
      "m-noto@jreast.co.jp >>> set parmanent password\n",
      "yuu-mogami@jreast.co.jp >>> set parmanent password\n",
      "satoru-yamazaki@jreast.co.jp >>> set parmanent password\n",
      "hiroki-harada@jreast.co.jp >>> set parmanent password\n",
      "aida-m@jreast.co.jp >>> set parmanent password\n",
      "h-hamao@jreast.co.jp >>> set parmanent password\n",
      "manabu-inoue@jreast.co.jp >>> set parmanent password\n",
      "y-tsuda@jreast.co.jp >>> set parmanent password\n",
      "tooru-ikeda@jreast.co.jp >>> set parmanent password\n",
      "a-teramoto@jreast.co.jp >>> set parmanent password\n",
      "a-furusawa@jreast.co.jp >>> set parmanent password\n",
      "r-fujihara@jreast.co.jp >>> set parmanent password\n",
      "hi-kanno@jreast.co.jp >>> set parmanent password\n",
      "takuma-gunji@jreast.co.jp >>> set parmanent password\n",
      "ootake-t@jreast.co.jp >>> set parmanent password\n",
      "y-kurumi@jreast.co.jp >>> set parmanent password\n",
      "kenjisasaki@jreast.co.jp >>> set parmanent password\n",
      "t-ishitani@jreast.co.jp >>> set parmanent password\n",
      "atuwata@jreast.co.jp >>> set parmanent password\n",
      "kanazawa-a@jreast.co.jp >>> set parmanent password\n",
      "sa-arakawa@jreast.co.jp >>> set parmanent password\n",
      "yokoyama@jreast.co.jp >>> set parmanent password\n",
      "takeru-takenaka@jreast.co.jp >>> set parmanent password\n",
      "takayoshi-asakura@jreast.co.jp >>> set parmanent password\n",
      "uchiyama-t@jreast.co.jp >>> set parmanent password\n",
      "tanaka-yoshiyuki@jreast.co.jp >>> set parmanent password\n",
      "keitarou-miura@jreast.co.jp >>> set parmanent password\n",
      "yuuki-nakazawa@jreast.co.jp >>> set parmanent password\n",
      "yuichi-shimizu@jreast.co.jp >>> set parmanent password\n",
      "marina-yamamoto@jreast.co.jp >>> set parmanent password\n",
      "megumi-sugawara@jreast.co.jp >>> set parmanent password\n",
      "fujiwara-takayuki@jreast.co.jp >>> set parmanent password\n",
      "satou-keisuke@jreast.co.jp >>> set parmanent password\n",
      "numanoi@jreast.co.jp >>> set parmanent password\n",
      "tsujino@jreast.co.jp >>> set parmanent password\n",
      "ko-yabe@jreast.co.jp >>> set parmanent password\n",
      "masahiko-ishikawa@jreast.co.jp >>> set parmanent password\n",
      "kazu-sasaki@jreast.co.jp >>> set parmanent password\n",
      "s-seino@jreast.co.jp >>> set parmanent password\n",
      "suruga@jreast.co.jp >>> set parmanent password\n",
      "anna-sasaki@jreast.co.jp >>> set parmanent password\n",
      "hirotada-kawakami@jreast.co.jp >>> set parmanent password\n",
      "shinya-kojima@jreast.co.jp >>> set parmanent password\n",
      "toshiya-sakamoto@jreast.co.jp >>> set parmanent password\n",
      "sayuki-igarashi@jreast.co.jp >>> set parmanent password\n",
      "kantarou-saitou@jreast.co.jp >>> set parmanent password\n",
      "ushio@jreast.co.jp >>> set parmanent password\n",
      "inkyo-eiji@jreast.co.jp >>> set parmanent password\n",
      "y-paku@jreast.co.jp >>> set parmanent password\n",
      "kazuma-moriya@jreast.co.jp >>> set parmanent password\n",
      "fumitoshi-abe@jreast.co.jp >>> set parmanent password\n"
     ]
    }
   ],
   "source": [
    "import boto3\n",
    "from tqdm.notebook import tqdm\n",
    "\n",
    "\n",
    "# cognito_client = boto3.client('cognito-idp')\n",
    "USER_POOL_ID = 'ap-northeast-1_Ln02xdsyw'    # Cognito ユーザプールID\n",
    "\n",
    "# 登録対象のユーザリスト\n",
    "users = get_all_users(USER_POOL_ID)\n",
    "df_users = users_to_dataframe(users)\n",
    "target_users = df_users[df_users['UserStatus'] == 'FORCE_CHANGE_PASSWORD']['email'].to_list()\n",
    "\n",
    "# 確認済みのパスワードを設定する\n",
    "for USER in tqdm(target_users):\n",
    "    print(f\"{USER} >>> set parmanent password\")\n",
    "    PASS = df.query(f'メールアドレス == \"{USER}\"')['初期パスワード'].iloc[0]\n",
    "    response = cognito_client.admin_set_user_password(\n",
    "        UserPoolId=USER_POOL_ID,\n",
    "        Username=USER,\n",
    "        Password=PASS,\n",
    "        Permanent=True\n",
    "    )"
   ]
  },
  {
   "cell_type": "code",
   "execution_count": null,
   "metadata": {},
   "outputs": [],
   "source": []
  },
  {
   "cell_type": "code",
   "execution_count": null,
   "metadata": {},
   "outputs": [],
   "source": []
  },
  {
   "cell_type": "code",
   "execution_count": null,
   "metadata": {},
   "outputs": [],
   "source": []
  },
  {
   "cell_type": "code",
   "execution_count": null,
   "metadata": {},
   "outputs": [],
   "source": []
  }
 ],
 "metadata": {
  "kernelspec": {
   "display_name": "base",
   "language": "python",
   "name": "python3"
  },
  "language_info": {
   "codemirror_mode": {
    "name": "ipython",
    "version": 3
   },
   "file_extension": ".py",
   "mimetype": "text/x-python",
   "name": "python",
   "nbconvert_exporter": "python",
   "pygments_lexer": "ipython3",
   "version": "3.10.14"
  }
 },
 "nbformat": 4,
 "nbformat_minor": 2
}
